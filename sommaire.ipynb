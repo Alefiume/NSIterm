{
 "cells": [
  {
   "cell_type": "code",
   "execution_count": 9,
   "metadata": {},
   "outputs": [
    {
     "data": {
      "application/javascript": [
       "let timerId = setInterval(() => IPython.notebook.kernel.execute(\"a=1\"), 300000);\n",
       "setTimeout(() => { clearInterval(timerId); alert('fin de cession'); },7200000)"
      ],
      "text/plain": [
       "<IPython.core.display.Javascript object>"
      ]
     },
     "execution_count": 9,
     "metadata": {},
     "output_type": "execute_result"
    }
   ],
   "source": [
    "from IPython.display import Javascript\n",
    "from ipywidgets import FileUpload, Button, HBox, Layout, Dropdown, VBox,Label, Accordion,HTML, Image\n",
    "timeout = 120 # minutes\n",
    "Javascript(\"\"\"let timerId = setInterval(() => IPython.notebook.kernel.execute(\"a=1\"), 300000);\n",
    "setTimeout(() => { clearInterval(timerId); alert('fin de cession'); },\"\"\"+ str(timeout*1000*60)+\")\")"
   ]
  },
  {
   "cell_type": "code",
   "execution_count": null,
   "metadata": {},
   "outputs": [],
   "source": [
    "Javascript(\"\"\"Jupyter.actions.call('jupyter-notebook:hide-header')\"\"\")"
   ]
  },
  {
   "cell_type": "code",
   "execution_count": 2,
   "metadata": {},
   "outputs": [
    {
     "data": {
      "application/javascript": [
       "Jupyter.actions.call('jupyter-notebook:hide-toolbar')"
      ],
      "text/plain": [
       "<IPython.core.display.Javascript object>"
      ]
     },
     "execution_count": 2,
     "metadata": {},
     "output_type": "execute_result"
    }
   ],
   "source": [
    "Javascript(\"\"\"Jupyter.actions.call('jupyter-notebook:hide-toolbar')\"\"\")"
   ]
  },
  {
   "cell_type": "code",
   "execution_count": 19,
   "metadata": {},
   "outputs": [
    {
     "data": {
      "application/vnd.jupyter.widget-view+json": {
       "model_id": "86ffbd46ad5c4490aae3a8e806a243e6",
       "version_major": 2,
       "version_minor": 0
      },
      "text/plain": [
       "Accordion(children=(HBox(children=(Image(value=b'\\x89PNG\\r\\n\\x1a\\n\\x00\\x00\\x00\\rIHDR\\x00\\x00\\x00\\x1e\\x00\\x00\\x…"
      ]
     },
     "metadata": {},
     "output_type": "display_data"
    }
   ],
   "source": [
    "\n",
    "\n",
    "\n",
    "accordion = Accordion(children=[HBox([Image(\n",
    "    value=open(\"img/carre.png\", \"rb\").read(),\n",
    "    format='png',\n",
    "    width=300,\n",
    "    height=400,\n",
    "),HTML(\"\"\"<ul><il><a href=\"../notebooks/Cours_00/cours_00.ipynb\">Cours_00</a></li>\n",
    "<ul><il><a href=\"../notebooks/Cours_00/TD_00_1.ipynb\">TD_00_1</a></li></ul></ul>\"\"\")]), HBox([Image(\n",
    "    value=open(\"img/carre.png\", \"rb\").read(),\n",
    "    format='png',\n",
    "    width=300,\n",
    "    height=400,\n",
    "),HTML(\"\"\"<ul><il><a href=\"../notebooks/Cours_00/cours_00.ipynb\">Cours_00</a></li>\n",
    "<ul><il><a href=\"../notebooks/Cours_00/TD_00_1.ipynb\">TD_00_1</a></li></ul></ul>\"\"\")]), HBox([Image(\n",
    "    value=open(\"img/carre.png\", \"rb\").read(),\n",
    "    format='png',\n",
    "    width=300,\n",
    "    height=400,\n",
    "),HTML(\"\"\"<ul><il><a href=\"../notebooks/Cours_00/cours_00.ipynb\">Cours_00</a></li>\n",
    "<ul><il><a href=\"../notebooks/Cours_00/TD_00_1.ipynb\">TD_00_1</a></li></ul></ul>\"\"\")]), HBox([Image(\n",
    "    value=open(\"img/carre.png\", \"rb\").read(),\n",
    "    format='png',\n",
    "    width=300,\n",
    "    height=400,\n",
    "),HTML(\"\"\"<ul><il><a href=\"../notebooks/Cours_00/cours_00.ipynb\">Cours_00</a></li>\n",
    "<ul><il><a href=\"../notebooks/Cours_00/TD_00_1.ipynb\">TD_00_1</a></li></ul></ul>\"\"\")])], selected_index=None)\n",
    "accordion.set_title(0, 'Cours 00 - Mise en route')\n",
    "accordion.set_title(1, 'Cours 01 - Structures de données')\n",
    "accordion.set_title(2, 'Cours 02 - Récursivité')\n",
    "accordion.set_title(3, 'Cours 03 - Cryptographie')\n",
    "accordion"
   ]
  },
  {
   "cell_type": "markdown",
   "metadata": {
    "cell_style": "center"
   },
   "source": [
    "### Cours 00 - Mise en route"
   ]
  },
  {
   "cell_type": "markdown",
   "metadata": {
    "cell_style": "split"
   },
   "source": [
    "![](img/mise_en_route.jpg)"
   ]
  },
  {
   "cell_type": "markdown",
   "metadata": {
    "cell_style": "split"
   },
   "source": [
    "* [Cours_00](../notebooks/Cours_00/cours_00.ipynb)\n",
    "     * [TD 00_1 - Révision](../notebooks/Cours_00/TD_00_1.ipynb)"
   ]
  },
  {
   "cell_type": "markdown",
   "metadata": {
    "cell_style": "center"
   },
   "source": [
    "### Cours 01 - Structures de données"
   ]
  },
  {
   "cell_type": "markdown",
   "metadata": {
    "cell_style": "split"
   },
   "source": [
    "\n",
    "* [I. Le tableau](https://mybinder.org/v2/gh/jcamponovo/NSIterm/master?filepath=Cours_01/cours_01_1.ipynb)\n",
    "* II. La Pile [![Binder](https://mybinder.org/badge_logo.svg)](https://mybinder.org/v2/gh/jcamponovo/NSIterm/master?filepath=Cours_01/cours_01_2.ipynb)\n",
    "    * TD 01_1 - Utilisation de piles [![Binder](https://mybinder.org/badge_logo.svg)](https://mybinder.org/v2/gh/jcamponovo/NSIterm/master?filepath=Cours_01/TD_01_1.ipynb) et [correction](https://mybinder.org/v2/gh/jcamponovo/NSIterm/master?filepath=Cours_01/TD_01_1_cor.ipynb)\n",
    "* III. La File [![Binder](https://mybinder.org/badge_logo.svg)](https://mybinder.org/v2/gh/jcamponovo/NSIterm/master?filepath=Cours_01/cours_01_3.ipynb)\n",
    "* IV. La liste chainée [![Binder](https://mybinder.org/badge_logo.svg)](https://mybinder.org/v2/gh/jcamponovo/NSIterm/master?filepath=Cours_01/cours_01_4.ipynb)\n",
    "    * TD 01_2 - Autres structures de données (partir I corrigée) [![Binder](https://mybinder.org/badge_logo.svg)](https://mybinder.org/v2/gh/jcamponovo/NSIterm/master?filepath=Cours_01/TD_01_2.ipynb)\n",
    "    * TD 01_3 - Implémentation de structures de données par programmation orientée objet [![Binder](https://mybinder.org/badge_logo.svg)](https://mybinder.org/v2/gh/jcamponovo/NSIterm/master?filepath=Cours_01/TD_01_3.ipynb)\n",
    "* V. Le dictionnaire [![Binder](https://mybinder.org/badge_logo.svg)](https://mybinder.org/v2/gh/jcamponovo/NSIterm/master?filepath=Cours_01/cours_01_5.ipynb)"
   ]
  },
  {
   "cell_type": "markdown",
   "metadata": {
    "cell_style": "split"
   },
   "source": [
    "### Cours 02 - Récursivité\n",
    "* I. Définition [![Binder](https://mybinder.org/badge_logo.svg)](https://mybinder.org/v2/gh/jcamponovo/NSIterm/master?filepath=Cours_02/cours_02_1.ipynb)\n",
    "* II. La Pile d'appel [![Binder](https://mybinder.org/badge_logo.svg)](https://mybinder.org/v2/gh/jcamponovo/NSIterm/master?filepath=Cours_02/cours_02_2.ipynb)\n",
    "    * TD 02_1 - Fonctions récursives et fractales [![Binder](https://mybinder.org/badge_logo.svg)](https://mybinder.org/v2/gh/jcamponovo/NSIterm/master?filepath=Cours_02/TD_02_1.ipynb)\n",
    "* III. Les limites [![Binder](https://mybinder.org/badge_logo.svg)](https://mybinder.org/v2/gh/jcamponovo/NSIterm/master?filepath=Cours_02/cours_02_3.ipynb)\n",
    "    * TD 02_2 - Ecrire des fonctions récursives [![Binder](https://mybinder.org/badge_logo.svg)](https://mybinder.org/v2/gh/jcamponovo/NSIterm/master?filepath=Cours_02/TD_02_2.ipynb)"
   ]
  },
  {
   "cell_type": "markdown",
   "metadata": {
    "cell_style": "split"
   },
   "source": [
    "### Cours 03 - Cryptographie\n",
    "* I. Cesar [![Binder](https://mybinder.org/badge_logo.svg)](https://mybinder.org/v2/gh/jcamponovo/NSIterm/master?filepath=Cours_03/cours_03_1.ipynb)\n",
    "* II. Vigenère [![Binder](https://mybinder.org/badge_logo.svg)](https://mybinder.org/v2/gh/jcamponovo/NSIterm/master?filepath=Cours_03/cours_03_2.ipynb)\n",
    "* III. Chiffrement à clé publique [![Binder](https://mybinder.org/badge_logo.svg)](https://mybinder.org/v2/gh/jcamponovo/NSIterm/master?filepath=Cours_03/cours_03_3.ipynb)\n"
   ]
  }
 ],
 "metadata": {
  "kernelspec": {
   "display_name": "Python 3",
   "language": "python",
   "name": "python3"
  },
  "language_info": {
   "codemirror_mode": {
    "name": "ipython",
    "version": 3
   },
   "file_extension": ".py",
   "mimetype": "text/x-python",
   "name": "python",
   "nbconvert_exporter": "python",
   "pygments_lexer": "ipython3",
   "version": "3.7.8"
  }
 },
 "nbformat": 4,
 "nbformat_minor": 4
}
