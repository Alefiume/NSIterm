{
 "cells": [
  {
   "cell_type": "code",
   "execution_count": 2,
   "metadata": {
    "hide_input": true,
    "hide_output": true,
    "init_cell": true,
    "run_control": {
     "marked": false
    }
   },
   "outputs": [
    {
     "data": {
      "application/javascript": [
       "\n",
       "function repeter(){\n",
       "IPython.notebook.kernel.execute(\"a=1\");\n",
       "}\n",
       "// execute a = 1 en python toutes les 8 minutes pendant 2h\n",
       "let timerId = setInterval(() => repeter(), 4800);\n",
       "setTimeout(() => { clearInterval(timerId); alert('fin de cession'); }, 7200000);\n",
       "\n",
       "// Supprimer la taille limite pour la sortie d'une cellule\n",
       "IPython.OutputArea.prototype._should_scroll = function(lines) {\n",
       "    return false;\n",
       "};\n",
       "IPython.notebook.kernel.execute(\"url = '\" + window.location + \"'\");\n",
       "\n",
       "// Exécuter toutes les cellule du notebook\n",
       "    require(\n",
       "        ['base/js/namespace', 'jquery'], \n",
       "        function(jupyter, $) {\n",
       "            \n",
       "                \n",
       "                jupyter.actions.call('jupyter-notebook:run-all-cells-below');\n",
       "                jupyter.actions.call('jupyter-notebook:save-notebook');\n",
       "                Jupyter.actions.call('jupyter-notebook:hide-header')\n",
       "\n",
       "        }\n",
       "    );"
      ],
      "text/plain": [
       "<IPython.core.display.Javascript object>"
      ]
     },
     "execution_count": 2,
     "metadata": {},
     "output_type": "execute_result"
    }
   ],
   "source": [
    "# Permet de tout executer au lancement du notebook + conserver le notebook actif pendant 2h\n",
    "from IPython.display import Javascript\n",
    "from masquer import *\n",
    "Javascript(\"\"\"\n",
    "function repeter(){\n",
    "IPython.notebook.kernel.execute(\"a=1\");\n",
    "}\n",
    "// execute a = 1 en python toutes les 8 minutes pendant 2h\n",
    "let timerId = setInterval(() => repeter(), 4800);\n",
    "setTimeout(() => { clearInterval(timerId); alert('fin de cession'); }, 7200000);\n",
    "\n",
    "// Supprimer la taille limite pour la sortie d'une cellule\n",
    "IPython.OutputArea.prototype._should_scroll = function(lines) {\n",
    "    return false;\n",
    "};\n",
    "IPython.notebook.kernel.execute(\"url = '\" + window.location + \"'\");\n",
    "\n",
    "// Exécuter toutes les cellule du notebook\n",
    "    require(\n",
    "        ['base/js/namespace', 'jquery'], \n",
    "        function(jupyter, $) {\n",
    "            \n",
    "                \n",
    "                jupyter.actions.call('jupyter-notebook:run-all-cells-below');\n",
    "                jupyter.actions.call('jupyter-notebook:save-notebook');\n",
    "                Jupyter.actions.call('jupyter-notebook:hide-header')\n",
    "\n",
    "        }\n",
    "    );\"\"\")"
   ]
  },
  {
   "cell_type": "markdown",
   "metadata": {},
   "source": [
    "# <span style=\"color:red;\"><center>TD_00_1 : Rappels de première</center></span>"
   ]
  },
  {
   "cell_type": "markdown",
   "metadata": {},
   "source": [
    "1. Ecrire une fonction **binaire** qui prend comme argument un int et qui renvoie une chaine de caractère représentant le binaire correspondant. Pour rappel, la conversion se fait par divisions successives par deux.\n",
    "Par exemple: binaire(2) doit renvoyer \"10\" et binaire(7) \"111\". Votre fonction devra être correctement commentée et documentée."
   ]
  },
  {
   "cell_type": "code",
   "execution_count": 3,
   "metadata": {
    "run_control": {
     "marked": false
    }
   },
   "outputs": [
    {
     "name": "stdout",
     "output_type": "stream",
     "text": [
      "10\n"
     ]
    }
   ],
   "source": [
    "# Question 1. 1er reponse\n",
    "def binaire(x):  \n",
    "    return bin(x).replace(\"0b\", \"\")\n",
    "print(binaire(2))\n"
   ]
  },
  {
   "cell_type": "code",
   "execution_count": 4,
   "metadata": {},
   "outputs": [
    {
     "name": "stdout",
     "output_type": "stream",
     "text": [
      "Entre un nombre décimal: 7\n",
      "111"
     ]
    }
   ],
   "source": [
    "#2éme reponse\n",
    "def binaire(y):\n",
    "    if y > 1:\n",
    "        binaire(y // 2)\n",
    "    print(y % 2, end='')\n",
    "\n",
    "number = int(input(\"Entre un nombre décimal: \"))\n",
    "\n",
    "binaire(number)"
   ]
  },
  {
   "cell_type": "markdown",
   "metadata": {},
   "source": [
    "2. Construire par compréhension une liste contenant tous les entiers impairs compris entre 0 et 10.\n",
    "3. Stocker cette liste dans une variable $l$"
   ]
  },
  {
   "cell_type": "code",
   "execution_count": 5,
   "metadata": {
    "run_control": {
     "marked": false
    }
   },
   "outputs": [
    {
     "name": "stdout",
     "output_type": "stream",
     "text": [
      "[1, 3, 5, 7, 9]\n"
     ]
    }
   ],
   "source": [
    "# Questions 2 et 3\n",
    "𝑙=[]\n",
    "\n",
    "for num in range(10):\n",
    "    if num%2==1:\n",
    "        𝑙.append(num)\n",
    "print(𝑙)\n"
   ]
  },
  {
   "cell_type": "markdown",
   "metadata": {},
   "source": [
    "4. Associer dans un dictionnaire les valeurs n et 3n+2 pour $0\\le n \\le 50$"
   ]
  },
  {
   "cell_type": "code",
   "execution_count": 6,
   "metadata": {
    "run_control": {
     "marked": false
    }
   },
   "outputs": [],
   "source": [
    "# Question 4\n"
   ]
  },
  {
   "cell_type": "markdown",
   "metadata": {},
   "source": [
    "5. Ecrire une fonction **tri_insertion** qui prend comme argument une liste de floats et qui renvoie la liste de floats triés dans l'ordre croissant par un algorithme de tri insertion. Vous pouvez regarder la vidéo ci-dessous pour vous rappeler l'algorithme."
   ]
  },
  {
   "cell_type": "code",
   "execution_count": 7,
   "metadata": {
    "hide_input": true,
    "run_control": {
     "marked": false
    }
   },
   "outputs": [
    {
     "name": "stderr",
     "output_type": "stream",
     "text": [
      "/srv/conda/envs/notebook/lib/python3.7/site-packages/IPython/core/display.py:717: UserWarning: Consider using IPython.display.IFrame instead\n",
      "  warnings.warn(\"Consider using IPython.display.IFrame instead\")\n"
     ]
    },
    {
     "data": {
      "text/html": [
       "<iframe width=\"640\" height=\"480\" src=\"https://www.youtube.com/embed/ROalU379l3U\" frameborder=\"0\" allow=\"accelerometer; autoplay; encrypted-media; gyroscope; picture-in-picture\" allowfullscreen></iframe>"
      ],
      "text/plain": [
       "<IPython.core.display.HTML object>"
      ]
     },
     "execution_count": 7,
     "metadata": {},
     "output_type": "execute_result"
    }
   ],
   "source": [
    "from IPython.display import HTML,IFrame\n",
    "HTML(\"\"\"<iframe width=\"640\" height=\"480\" src=\"https://www.youtube.com/embed/ROalU379l3U\" frameborder=\"0\" allow=\"accelerometer; autoplay; encrypted-media; gyroscope; picture-in-picture\" allowfullscreen></iframe>\"\"\")"
   ]
  },
  {
   "cell_type": "code",
   "execution_count": 10,
   "metadata": {
    "run_control": {
     "marked": false
    }
   },
   "outputs": [
    {
     "name": "stdout",
     "output_type": "stream",
     "text": [
      "La liste est:\n",
      " 0\n",
      " 1\n",
      " 2\n",
      " 3\n",
      " 4\n",
      " 5\n",
      " 6\n",
      " 7\n",
      " 8\n",
      " 9\n"
     ]
    }
   ],
   "source": [
    "# Question 5\n",
    "def tri_insertion(bonhomme):\n",
    "    for i in range(1,len(bonhomme)):\n",
    "        k=bonhomme[i] \n",
    "        j=i-1\n",
    "        while j>= 0 and k< bonhomme[j] : \n",
    "                bonhomme[j+1] = bonhomme[j] \n",
    "                j-=1\n",
    "        bonhomme[j+1] = k\n",
    "\n",
    "bonhomme = [3,0,1,8,7,2,5,4,9,6]\n",
    "tri_insertion(bonhomme) \n",
    "print (\"La liste est:\")\n",
    "for i in range(len(bonhomme)): \n",
    "    print (\"% d\" % bonhomme[i])"
   ]
  },
  {
   "cell_type": "markdown",
   "metadata": {},
   "source": [
    "6. Etudiez et commentez la fonction mystere suivante."
   ]
  },
  {
   "cell_type": "code",
   "execution_count": null,
   "metadata": {
    "run_control": {
     "marked": false
    }
   },
   "outputs": [],
   "source": [
    "# Question 6\n",
    "#\n",
    "from random import *\n",
    "entree = [randint(0,1000) for i in range(20)]\n",
    "\n",
    "def mystere(liste):\n",
    "    m = liste[0]\n",
    "    for val in liste:\n",
    "        if val > m:\n",
    "            m = val\n",
    "    return m\n",
    "\n",
    "print(entree)\n",
    "mystere(entree)"
   ]
  },
  {
   "cell_type": "markdown",
   "metadata": {},
   "source": [
    "7. Modifiez la fonction mystere ci-dessous pour qu'elle renvoie aussi l'indice correspondant à m"
   ]
  },
  {
   "cell_type": "code",
   "execution_count": 14,
   "metadata": {
    "run_control": {
     "marked": false
    }
   },
   "outputs": [
    {
     "name": "stdout",
     "output_type": "stream",
     "text": [
      "[69, 801, 208, 239, 380, 532, 137, 4, 638, 43, 437, 269, 881, 931, 624, 589, 489, 559, 718, 39]\n",
      "value : 931\n",
      "index : 13\n"
     ]
    }
   ],
   "source": [
    "# Question 7\n",
    "from random import *\n",
    "entree = [randint(0,1000) for i in range(20)]\n",
    "\n",
    "def mystere(liste):\n",
    "    m = liste[0]\n",
    "    for val in liste:\n",
    "        if val > m:\n",
    "            m = val\n",
    "    \n",
    "    for index,value in enumerate(entree):\n",
    "        if value==m:\n",
    "            print(\"value :\", value)\n",
    "            print(\"index :\", index)\n",
    "\n",
    "print(entree)\n",
    "mystere(entree)"
   ]
  },
  {
   "cell_type": "markdown",
   "metadata": {},
   "source": [
    "8. Etudiez la fonction mystere2 suivante. Documentez là et commentez là."
   ]
  },
  {
   "cell_type": "code",
   "execution_count": null,
   "metadata": {
    "run_control": {
     "marked": false
    }
   },
   "outputs": [],
   "source": [
    "# Question 8\n",
    "entree = sorted([randint(0,1000) for i in range(100)])\n",
    "\n",
    "\n",
    "def mystere2(liste,val):\n",
    "    l = liste[:]\n",
    "    while l:\n",
    "        n = len(l)\n",
    "        if val < l[n//2]:\n",
    "            l = l[:n//2]\n",
    "        elif val == l[n//2]:\n",
    "            return True\n",
    "        else:\n",
    "            l = l[n//2+1:]\n",
    "    return False\n",
    "            \n",
    "\n",
    "print(entree)    \n",
    "mystere2(entree,300)"
   ]
  }
 ],
 "metadata": {
  "celltoolbar": "None",
  "kernelspec": {
   "display_name": "Python 3",
   "language": "python",
   "name": "python3"
  },
  "language_info": {
   "codemirror_mode": {
    "name": "ipython",
    "version": 3
   },
   "file_extension": ".py",
   "mimetype": "text/x-python",
   "name": "python",
   "nbconvert_exporter": "python",
   "pygments_lexer": "ipython3",
   "version": "3.8.6"
  },
  "varInspector": {
   "cols": {
    "lenName": 16,
    "lenType": 16,
    "lenVar": 40
   },
   "kernels_config": {
    "python": {
     "delete_cmd_postfix": "",
     "delete_cmd_prefix": "del ",
     "library": "var_list.py",
     "varRefreshCmd": "print(var_dic_list())"
    },
    "r": {
     "delete_cmd_postfix": ") ",
     "delete_cmd_prefix": "rm(",
     "library": "var_list.r",
     "varRefreshCmd": "cat(var_dic_list()) "
    }
   },
   "types_to_exclude": [
    "module",
    "function",
    "builtin_function_or_method",
    "instance",
    "_Feature"
   ],
   "window_display": false
  }
 },
 "nbformat": 4,
 "nbformat_minor": 4
}
