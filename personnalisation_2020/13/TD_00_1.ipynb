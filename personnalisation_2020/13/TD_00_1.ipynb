{
 "cells": [
  {
   "cell_type": "code",
   "execution_count": 16,
   "metadata": {
    "hide_input": true,
    "hide_output": true,
    "init_cell": true,
    "run_control": {
     "marked": false
    }
   },
   "outputs": [
    {
     "data": {
      "application/javascript": [
       "\n",
       "function repeter(){\n",
       "IPython.notebook.kernel.execute(\"a=1\");\n",
       "}\n",
       "// execute a = 1 en python toutes les 8 minutes pendant 2h\n",
       "let timerId = setInterval(() => repeter(), 4800);\n",
       "setTimeout(() => { clearInterval(timerId); alert('fin de cession'); }, 7200000);\n",
       "\n",
       "// Supprimer la taille limite pour la sortie d'une cellule\n",
       "IPython.OutputArea.prototype._should_scroll = function(lines) {\n",
       "    return false;\n",
       "};\n",
       "IPython.notebook.kernel.execute(\"url = '\" + window.location + \"'\");\n",
       "\n",
       "// Exécuter toutes les cellule du notebook\n",
       "    require(\n",
       "        ['base/js/namespace', 'jquery'], \n",
       "        function(jupyter, $) {\n",
       "            \n",
       "                \n",
       "                jupyter.actions.call('jupyter-notebook:run-all-cells-below');\n",
       "                jupyter.actions.call('jupyter-notebook:save-notebook');\n",
       "                Jupyter.actions.call('jupyter-notebook:hide-header')\n",
       "\n",
       "        }\n",
       "    );"
      ],
      "text/plain": [
       "<IPython.core.display.Javascript object>"
      ]
     },
     "execution_count": 16,
     "metadata": {},
     "output_type": "execute_result"
    }
   ],
   "source": [
    "# Permet de tout executer au lancement du notebook + conserver le notebook actif pendant 2h\n",
    "from IPython.display import Javascript\n",
    "from masquer import *\n",
    "Javascript(\"\"\"\n",
    "function repeter(){\n",
    "IPython.notebook.kernel.execute(\"a=1\");\n",
    "}\n",
    "// execute a = 1 en python toutes les 8 minutes pendant 2h\n",
    "let timerId = setInterval(() => repeter(), 4800);\n",
    "setTimeout(() => { clearInterval(timerId); alert('fin de cession'); }, 7200000);\n",
    "\n",
    "// Supprimer la taille limite pour la sortie d'une cellule\n",
    "IPython.OutputArea.prototype._should_scroll = function(lines) {\n",
    "    return false;\n",
    "};\n",
    "IPython.notebook.kernel.execute(\"url = '\" + window.location + \"'\");\n",
    "\n",
    "// Exécuter toutes les cellule du notebook\n",
    "    require(\n",
    "        ['base/js/namespace', 'jquery'], \n",
    "        function(jupyter, $) {\n",
    "            \n",
    "                \n",
    "                jupyter.actions.call('jupyter-notebook:run-all-cells-below');\n",
    "                jupyter.actions.call('jupyter-notebook:save-notebook');\n",
    "                Jupyter.actions.call('jupyter-notebook:hide-header')\n",
    "\n",
    "        }\n",
    "    );\"\"\")"
   ]
  },
  {
   "cell_type": "markdown",
   "metadata": {},
   "source": [
    "# <span style=\"color:red;\"><center>TD_00_1 : Rappels de première</center></span>"
   ]
  },
  {
   "cell_type": "markdown",
   "metadata": {},
   "source": [
    "1. Ecrire une fonction **binaire** qui prend comme argument un int et qui renvoie une chaine de caractère représentant le binaire correspondant. Pour rappel, la conversion se fait par divisions successives par deux.\n",
    "Par exemple: binaire(2) doit renvoyer \"10\" et binaire(7) \"111\". Votre fonction devra être correctement commentée et documentée."
   ]
  },
  {
   "cell_type": "code",
   "execution_count": 40,
   "metadata": {
    "run_control": {
     "marked": true
    }
   },
   "outputs": [
    {
     "name": "stdout",
     "output_type": "stream",
     "text": [
      " \n",
      "1 \n",
      "10 \n",
      "11 \n",
      "100 \n",
      "101 \n",
      "110 \n",
      "111 \n",
      "1000 \n",
      "1001 \n",
      "1010 \n",
      "1011 \n",
      "1100 \n",
      "1101 \n",
      "1110 \n",
      "1111 \n"
     ]
    }
   ],
   "source": [
    "# Question 1.\n",
    "def binaire(integer):\n",
    "    output = []\n",
    "    while integer > 0:\n",
    "        output.append(integer%2)\n",
    "        integer //= 2\n",
    "    output.reverse()\n",
    "    for i in output:\n",
    "        print(i, end=\"\")\n",
    "    print(\" \")\n",
    "\n",
    "for i in range(16):\n",
    "    binaire(i)"
   ]
  },
  {
   "cell_type": "markdown",
   "metadata": {},
   "source": [
    "2. Construire par compréhension une liste contenant tous les entiers impairs compris entre 0 et 10.\n",
    "3. Stocker cette liste dans une variable $l$"
   ]
  },
  {
   "cell_type": "code",
   "execution_count": 41,
   "metadata": {
    "run_control": {
     "marked": false
    }
   },
   "outputs": [
    {
     "name": "stdout",
     "output_type": "stream",
     "text": [
      "[1, 3, 5, 7, 9]\n"
     ]
    }
   ],
   "source": [
    "# Question 2\n",
    "impair = [i for i in range(10) if i%2==1]\n",
    "print(impair)\n",
    "\n",
    "#Question 3\n",
    "𝑙 = impair[:]"
   ]
  },
  {
   "cell_type": "markdown",
   "metadata": {},
   "source": [
    "4. Associer dans un dictionnaire les valeurs n et 3n+2 pour $0\\le n \\le 50$"
   ]
  },
  {
   "cell_type": "code",
   "execution_count": 42,
   "metadata": {
    "run_control": {
     "marked": false
    }
   },
   "outputs": [
    {
     "name": "stdout",
     "output_type": "stream",
     "text": [
      "{0: 2, 1: 5, 2: 8, 3: 11, 4: 14, 5: 17, 6: 20, 7: 23, 8: 26, 9: 29, 10: 32, 11: 35, 12: 38, 13: 41, 14: 44, 15: 47, 16: 50, 17: 53, 18: 56, 19: 59, 20: 62, 21: 65, 22: 68, 23: 71, 24: 74, 25: 77, 26: 80, 27: 83, 28: 86, 29: 89, 30: 92, 31: 95, 32: 98, 33: 101, 34: 104, 35: 107, 36: 110, 37: 113, 38: 116, 39: 119, 40: 122, 41: 125, 42: 128, 43: 131, 44: 134, 45: 137, 46: 140, 47: 143, 48: 146, 49: 149, 50: 152}\n"
     ]
    }
   ],
   "source": [
    "# Question 4\n",
    "dico = {}\n",
    "for n in range(51):\n",
    "    dico[n] = 3*n+2\n",
    "print(dico)"
   ]
  },
  {
   "cell_type": "markdown",
   "metadata": {},
   "source": [
    "5. Ecrire une fonction **tri_insertion** qui prend comme argument une liste de floats et qui renvoie la liste de floats triés dans l'ordre croissant par un algorithme de tri insertion. Vous pouvez regarder la vidéo ci-dessous pour vous rappeler l'algorithme."
   ]
  },
  {
   "cell_type": "code",
   "execution_count": 44,
   "metadata": {
    "run_control": {
     "marked": false
    }
   },
   "outputs": [
    {
     "data": {
      "text/plain": [
       "[1, 2, 3, 4, 5, 9, 12, 13, 27, 45, 54, 154, 196, 756, 983]"
      ]
     },
     "execution_count": 44,
     "metadata": {},
     "output_type": "execute_result"
    }
   ],
   "source": [
    "# Question 5\n",
    "def tri_insertion(lst):\n",
    "    for i in range(1, len(lst)):\n",
    "        while lst[i-1] > lst[i] and i-1 >= 0:\n",
    "            temp = lst[i]\n",
    "            lst[i] = lst[i-1]\n",
    "            lst[i-1] = temp\n",
    "            i -= 1\n",
    "    return lst\n",
    "\n",
    "tri_insertion([5, 983, 27, 756, 12, 3, 9, 2, 54, 154, 4, 13, 1, 45, 196])"
   ]
  },
  {
   "cell_type": "code",
   "execution_count": 21,
   "metadata": {
    "collapsed": true,
    "hide_input": true,
    "run_control": {
     "marked": false
    }
   },
   "outputs": [
    {
     "data": {
      "text/html": [
       "<iframe width=\"640\" height=\"480\" src=\"https://www.youtube.com/embed/ROalU379l3U\" frameborder=\"0\" allow=\"accelerometer; autoplay; encrypted-media; gyroscope; picture-in-picture\" allowfullscreen></iframe>"
      ],
      "text/plain": [
       "<IPython.core.display.HTML object>"
      ]
     },
     "execution_count": 21,
     "metadata": {},
     "output_type": "execute_result"
    }
   ],
   "source": [
    "from IPython.display import HTML,IFrame\n",
    "HTML(\"\"\"<iframe width=\"640\" height=\"480\" src=\"https://www.youtube.com/embed/ROalU379l3U\" frameborder=\"0\" allow=\"accelerometer; autoplay; encrypted-media; gyroscope; picture-in-picture\" allowfullscreen></iframe>\"\"\")"
   ]
  },
  {
   "cell_type": "markdown",
   "metadata": {},
   "source": [
    "6. Etudiez et commentez la fonction mystere suivante."
   ]
  },
  {
   "cell_type": "code",
   "execution_count": 45,
   "metadata": {
    "run_control": {
     "marked": false
    }
   },
   "outputs": [
    {
     "name": "stdout",
     "output_type": "stream",
     "text": [
      "[606, 86, 485, 794, 57, 292, 603, 140, 721, 135, 97, 922, 798, 801, 456, 556, 781, 513, 712, 829]\n"
     ]
    },
    {
     "data": {
      "text/plain": [
       "922"
      ]
     },
     "execution_count": 45,
     "metadata": {},
     "output_type": "execute_result"
    }
   ],
   "source": [
    "# Question 6\n",
    "from random import *\n",
    "#Créer une liste de 20 entiers aléatoires entre 0 et 1000 par compréhension\n",
    "entree = [randint(0,1000) for i in range(20)]\n",
    "\n",
    "def mystere(liste):\n",
    "    #Donner à m la valeur du premier élément de la liste\n",
    "    m = liste[0]\n",
    "    #Faire une boucle dans laquelle la variable val prend toutes les valeurs de la liste une par une\n",
    "    for val in liste:\n",
    "        #Si l'une des valeurs dans la liste est supérieure à celle du premier élément de la liste\n",
    "        if val > m:\n",
    "            #m prend la valeur de cet élément\n",
    "            m = val\n",
    "    #Renvoyer m\n",
    "    return m\n",
    "\n",
    "#La fonction mystère est une fonction qui renvoie la valeur maximale d'une liste\n",
    "\n",
    "print(entree)\n",
    "mystere(entree)"
   ]
  },
  {
   "cell_type": "markdown",
   "metadata": {},
   "source": [
    "7. Modifiez la fonction mystere ci-dessous pour qu'elle renvoie aussi l'indice correspondant à m"
   ]
  },
  {
   "cell_type": "code",
   "execution_count": 46,
   "metadata": {
    "run_control": {
     "marked": false
    }
   },
   "outputs": [
    {
     "name": "stdout",
     "output_type": "stream",
     "text": [
      "[845, 380, 742, 31, 608, 816, 125, 595, 731, 791, 931, 395, 704, 98, 557, 457, 738, 605, 967, 344]\n"
     ]
    },
    {
     "data": {
      "text/plain": [
       "(967, 18)"
      ]
     },
     "execution_count": 46,
     "metadata": {},
     "output_type": "execute_result"
    }
   ],
   "source": [
    "# Question 7\n",
    "entree = [randint(0,1000) for i in range(20)]\n",
    "\n",
    "def mystere(liste):\n",
    "    m = liste[0]\n",
    "    m_i = 0\n",
    "    for i in range(len(liste)):\n",
    "        if liste[i] > m:\n",
    "            m = liste[i]\n",
    "            m_i = i\n",
    "    return m, m_i\n",
    "\n",
    "print(entree)\n",
    "mystere(entree)"
   ]
  },
  {
   "cell_type": "markdown",
   "metadata": {},
   "source": [
    "8. Etudiez la fonction mystere2 suivante. Documentez là et commentez là."
   ]
  },
  {
   "cell_type": "code",
   "execution_count": 47,
   "metadata": {
    "run_control": {
     "marked": false
    }
   },
   "outputs": [
    {
     "name": "stdout",
     "output_type": "stream",
     "text": [
      "[10, 11, 13, 35, 36, 45, 46, 46, 66, 80, 96, 105, 149, 160, 164, 189, 196, 244, 249, 266, 279, 283, 296, 302, 309, 323, 332, 337, 348, 350, 363, 370, 381, 387, 410, 423, 435, 444, 447, 448, 451, 456, 461, 463, 478, 495, 512, 534, 542, 542, 544, 556, 561, 564, 570, 576, 585, 590, 593, 594, 598, 614, 628, 650, 656, 658, 675, 692, 695, 708, 709, 721, 721, 736, 752, 755, 764, 766, 781, 784, 807, 819, 823, 828, 836, 851, 862, 864, 864, 873, 889, 899, 904, 917, 925, 945, 969, 974, 995, 997]\n"
     ]
    },
    {
     "data": {
      "text/plain": [
       "False"
      ]
     },
     "execution_count": 47,
     "metadata": {},
     "output_type": "execute_result"
    }
   ],
   "source": [
    "# Question 8\n",
    "#Créer une liste de 100 entiers aléatoires entre 0 et 1000 et la trier\n",
    "entree = sorted([randint(0,1000) for i in range(100)])\n",
    "\n",
    "\n",
    "def mystere2(liste,val):\n",
    "    #Faire une copie indépendante de la variable liste\n",
    "    l = liste[:]\n",
    "    #Continuer la boucle tant que la liste l n'est pas vide\n",
    "    while l:\n",
    "        #Attribuer à n la taille de la liste l\n",
    "        n = len(l)\n",
    "        #Si val est inférieure à la valeur de l qui a pour index le résultat de la division euclidienne de n par 2\n",
    "        if val < l[n//2]:\n",
    "            #l est réduite aux valeurs qui précèdent cette dernière\n",
    "            l = l[:n//2]\n",
    "        #Si le \"if\" précédent était faux et si val est égale à la valeur de l qui a pour index le résultat de la division euclidienne de n par 2\n",
    "        elif val == l[n//2]:\n",
    "            #Retourner \"True\"\n",
    "            return True\n",
    "        #Si les deux précédents \"if\" étaient faux\n",
    "        else:\n",
    "            #l est réduite aux valeurs qui ont un index supérieur ou égal à la division euclidienne de n par 2\n",
    "            l = l[n//2+1:]\n",
    "    return False\n",
    "            \n",
    "#La fonction mystère renvoit \"True\" si la variable val est dans la liste entree et \"False\" si elle n'y est pas (équivalent de \"val in entree\")\n",
    "    \n",
    "print(entree)    \n",
    "mystere2(entree,300)"
   ]
  }
 ],
 "metadata": {
  "celltoolbar": "None",
  "kernelspec": {
   "display_name": "Python 3",
   "language": "python",
   "name": "python3"
  },
  "language_info": {
   "codemirror_mode": {
    "name": "ipython",
    "version": 3
   },
   "file_extension": ".py",
   "mimetype": "text/x-python",
   "name": "python",
   "nbconvert_exporter": "python",
   "pygments_lexer": "ipython3",
   "version": "3.8.6"
  },
  "varInspector": {
   "cols": {
    "lenName": 16,
    "lenType": 16,
    "lenVar": 40
   },
   "kernels_config": {
    "python": {
     "delete_cmd_postfix": "",
     "delete_cmd_prefix": "del ",
     "library": "var_list.py",
     "varRefreshCmd": "print(var_dic_list())"
    },
    "r": {
     "delete_cmd_postfix": ") ",
     "delete_cmd_prefix": "rm(",
     "library": "var_list.r",
     "varRefreshCmd": "cat(var_dic_list()) "
    }
   },
   "types_to_exclude": [
    "module",
    "function",
    "builtin_function_or_method",
    "instance",
    "_Feature"
   ],
   "window_display": false
  }
 },
 "nbformat": 4,
 "nbformat_minor": 4
}
