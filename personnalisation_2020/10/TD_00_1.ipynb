{
 "cells": [
  {
   "cell_type": "code",
   "execution_count": 75,
   "metadata": {
    "hide_input": true,
    "hide_output": true,
    "init_cell": true,
    "run_control": {
     "marked": false
    }
   },
   "outputs": [
    {
     "data": {
      "application/javascript": [
       "\n",
       "function repeter(){\n",
       "IPython.notebook.kernel.execute(\"a=1\");\n",
       "}\n",
       "// execute a = 1 en python toutes les 8 minutes pendant 2h\n",
       "let timerId = setInterval(() => repeter(), 4800);\n",
       "setTimeout(() => { clearInterval(timerId); alert('fin de cession'); }, 7200000);\n",
       "\n",
       "// Supprimer la taille limite pour la sortie d'une cellule\n",
       "IPython.OutputArea.prototype._should_scroll = function(lines) {\n",
       "    return false;\n",
       "};\n",
       "IPython.notebook.kernel.execute(\"url = '\" + window.location + \"'\");\n",
       "\n",
       "// Exécuter toutes les cellule du notebook\n",
       "    require(\n",
       "        ['base/js/namespace', 'jquery'], \n",
       "        function(jupyter, $) {\n",
       "            \n",
       "                \n",
       "                jupyter.actions.call('jupyter-notebook:run-all-cells-below');\n",
       "                jupyter.actions.call('jupyter-notebook:save-notebook');\n",
       "                Jupyter.actions.call('jupyter-notebook:hide-header')\n",
       "\n",
       "        }\n",
       "    );"
      ],
      "text/plain": [
       "<IPython.core.display.Javascript object>"
      ]
     },
     "execution_count": 75,
     "metadata": {},
     "output_type": "execute_result"
    }
   ],
   "source": [
    "# Permet de tout executer au lancement du notebook + conserver le notebook actif pendant 2h\n",
    "from IPython.display import Javascript\n",
    "from masquer import *\n",
    "Javascript(\"\"\"\n",
    "function repeter(){\n",
    "IPython.notebook.kernel.execute(\"a=1\");\n",
    "}\n",
    "// execute a = 1 en python toutes les 8 minutes pendant 2h\n",
    "let timerId = setInterval(() => repeter(), 4800);\n",
    "setTimeout(() => { clearInterval(timerId); alert('fin de cession'); }, 7200000);\n",
    "\n",
    "// Supprimer la taille limite pour la sortie d'une cellule\n",
    "IPython.OutputArea.prototype._should_scroll = function(lines) {\n",
    "    return false;\n",
    "};\n",
    "IPython.notebook.kernel.execute(\"url = '\" + window.location + \"'\");\n",
    "\n",
    "// Exécuter toutes les cellule du notebook\n",
    "    require(\n",
    "        ['base/js/namespace', 'jquery'], \n",
    "        function(jupyter, $) {\n",
    "            \n",
    "                \n",
    "                jupyter.actions.call('jupyter-notebook:run-all-cells-below');\n",
    "                jupyter.actions.call('jupyter-notebook:save-notebook');\n",
    "                Jupyter.actions.call('jupyter-notebook:hide-header')\n",
    "\n",
    "        }\n",
    "    );\"\"\")"
   ]
  },
  {
   "cell_type": "markdown",
   "metadata": {},
   "source": [
    "# <span style=\"color:red;\"><center>TD_00_1 : Rappels de première</center></span>"
   ]
  },
  {
   "cell_type": "markdown",
   "metadata": {},
   "source": [
    "1. Ecrire une fonction **binaire** qui prend comme argument un int et qui renvoie une chaine de caractère représentant le binaire correspondant. Pour rappel, la conversion se fait par divisions successives par deux.\n",
    "Par exemple: binaire(2) doit renvoyer \"10\" et binaire(7) \"111\". Votre fonction devra être correctement commentée et documentée."
   ]
  },
  {
   "cell_type": "code",
   "execution_count": 96,
   "metadata": {
    "run_control": {
     "marked": false
    }
   },
   "outputs": [
    {
     "name": "stdout",
     "output_type": "stream",
     "text": [
      "100010\n"
     ]
    }
   ],
   "source": [
    "# Question 1.\n",
    "def binary(i):\n",
    "    val = i\n",
    "    res = []\n",
    "    while (val > 0):\n",
    "        val //= 2\n",
    "        res.append(str(val % 2))\n",
    "    return \"\".join(res)\n",
    "\n",
    "print(binary(34))"
   ]
  },
  {
   "cell_type": "markdown",
   "metadata": {},
   "source": [
    "2. Construire par compréhension une liste contenant tous les entiers impairs compris entre 0 et 10.\n",
    "3. Stocker cette liste dans une variable $l$"
   ]
  },
  {
   "cell_type": "code",
   "execution_count": 53,
   "metadata": {
    "run_control": {
     "marked": false
    }
   },
   "outputs": [
    {
     "name": "stdout",
     "output_type": "stream",
     "text": [
      "[1, 3, 5, 7, 9]\n"
     ]
    }
   ],
   "source": [
    "# Questions 2 et 3\n",
    "l = [x for x in range(10) if x % 2 ==1]\n",
    "print(l)"
   ]
  },
  {
   "cell_type": "markdown",
   "metadata": {},
   "source": [
    "4. Associer dans un dictionnaire les valeurs n et 3n+2 pour $0\\le n \\le 50$"
   ]
  },
  {
   "cell_type": "code",
   "execution_count": 51,
   "metadata": {
    "run_control": {
     "marked": false
    }
   },
   "outputs": [
    {
     "name": "stdout",
     "output_type": "stream",
     "text": [
      "{0: 2, 1: 5, 2: 8, 3: 11, 4: 14, 5: 17, 6: 20, 7: 23, 8: 26, 9: 29, 10: 32, 11: 35, 12: 38, 13: 41, 14: 44, 15: 47, 16: 50, 17: 53, 18: 56, 19: 59, 20: 62, 21: 65, 22: 68, 23: 71, 24: 74, 25: 77, 26: 80, 27: 83, 28: 86, 29: 89, 30: 92, 31: 95, 32: 98, 33: 101, 34: 104, 35: 107, 36: 110, 37: 113, 38: 116, 39: 119, 40: 122, 41: 125, 42: 128, 43: 131, 44: 134, 45: 137, 46: 140, 47: 143, 48: 146, 49: 149, 50: 152}\n"
     ]
    }
   ],
   "source": [
    "# Question 4\n",
    "i = { n: 3*n+2 for n in range(51)}\n",
    "print(i)"
   ]
  },
  {
   "cell_type": "markdown",
   "metadata": {},
   "source": [
    "5. Ecrire une fonction **tri_insertion** qui prend comme argument une liste de floats et qui renvoie la liste de floats triés dans l'ordre croissant par un algorithme de tri insertion. Vous pouvez regarder la vidéo ci-dessous pour vous rappeler l'algorithme."
   ]
  },
  {
   "cell_type": "code",
   "execution_count": 76,
   "metadata": {
    "hide_input": true,
    "run_control": {
     "marked": false
    }
   },
   "outputs": [
    {
     "data": {
      "text/html": [
       "<iframe width=\"640\" height=\"480\" src=\"https://www.youtube.com/embed/ROalU379l3U\" frameborder=\"0\" allow=\"accelerometer; autoplay; encrypted-media; gyroscope; picture-in-picture\" allowfullscreen></iframe>"
      ],
      "text/plain": [
       "<IPython.core.display.HTML object>"
      ]
     },
     "execution_count": 76,
     "metadata": {},
     "output_type": "execute_result"
    }
   ],
   "source": [
    "from IPython.display import HTML,IFrame\n",
    "HTML(\"\"\"<iframe width=\"640\" height=\"480\" src=\"https://www.youtube.com/embed/ROalU379l3U\" frameborder=\"0\" allow=\"accelerometer; autoplay; encrypted-media; gyroscope; picture-in-picture\" allowfullscreen></iframe>\"\"\")"
   ]
  },
  {
   "cell_type": "code",
   "execution_count": 86,
   "metadata": {
    "run_control": {
     "marked": false
    }
   },
   "outputs": [
    {
     "name": "stdout",
     "output_type": "stream",
     "text": [
      "[2, 3, 5, 5, 7, 12, 91]\n"
     ]
    }
   ],
   "source": [
    "# Question 5\n",
    "def tri_insertion(list):\n",
    "    for i in range(len(list)):\n",
    "        for j in range(len(list)):\n",
    "            if (list[j] > list[i]):\n",
    "                buffer = list[j]\n",
    "                list[j] = list[i];\n",
    "                list[i] = buffer\n",
    "    return list\n",
    "\n",
    "print(tri_insertion([3, 5, 2, 5, 7, 91, 12]))"
   ]
  },
  {
   "cell_type": "markdown",
   "metadata": {},
   "source": [
    "6. Etudiez et commentez la fonction mystere suivante."
   ]
  },
  {
   "cell_type": "code",
   "execution_count": 78,
   "metadata": {
    "run_control": {
     "marked": false
    }
   },
   "outputs": [
    {
     "name": "stdout",
     "output_type": "stream",
     "text": [
      "[68, 754, 48, 69, 220, 357, 907, 616, 839, 829, 556, 33, 606, 485, 564, 121, 551, 547, 720, 458]\n"
     ]
    },
    {
     "data": {
      "text/plain": [
       "907"
      ]
     },
     "execution_count": 78,
     "metadata": {},
     "output_type": "execute_result"
    }
   ],
   "source": [
    "# Question 6\n",
    "from random import *\n",
    "entree = [randint(0,1000) for i in range(20)] # Générer une liste de 20 nombres aléatoires\n",
    "\n",
    "# Recupere le maximum de la liste\n",
    "def mystere(liste):\n",
    "    m = liste[0] # Variable stockant temporairement l'élement maximum de la partie traversée de la liste\n",
    "    for val in liste:\n",
    "        if val > m: # Mettre le maximum à la valeur actuelle si elle est plus grande\n",
    "            m = val\n",
    "    return m\n",
    "\n",
    "print(entree)\n",
    "mystere(entree)"
   ]
  },
  {
   "cell_type": "markdown",
   "metadata": {},
   "source": [
    "7. Modifiez la fonction mystere ci-dessous pour qu'elle renvoie aussi l'indice correspondant à m"
   ]
  },
  {
   "cell_type": "code",
   "execution_count": 101,
   "metadata": {
    "run_control": {
     "marked": false
    }
   },
   "outputs": [
    {
     "name": "stdout",
     "output_type": "stream",
     "text": [
      "[164, 951, 231, 850, 475, 656, 8, 196, 320, 941, 945, 558, 2, 648, 315, 150, 118, 964, 82, 704]\n"
     ]
    },
    {
     "data": {
      "text/plain": [
       "(964, 17)"
      ]
     },
     "execution_count": 101,
     "metadata": {},
     "output_type": "execute_result"
    }
   ],
   "source": [
    "# Question 7\n",
    "entree = [randint(0,1000) for i in range(20)]\n",
    "\n",
    "def mystere(liste):\n",
    "    m = liste[0]\n",
    "    i = 0\n",
    "    for index, val in enumerate(liste):\n",
    "        if val > m:\n",
    "            m = val\n",
    "            i = index\n",
    "    return (m, i)\n",
    "\n",
    "print(entree)\n",
    "mystere(entree)"
   ]
  },
  {
   "cell_type": "markdown",
   "metadata": {},
   "source": [
    "8. Etudiez la fonction mystere2 suivante. Documentez là et commentez là."
   ]
  },
  {
   "cell_type": "code",
   "execution_count": 145,
   "metadata": {
    "run_control": {
     "marked": false
    }
   },
   "outputs": [
    {
     "name": "stdout",
     "output_type": "stream",
     "text": [
      "[0, 5, 13, 18, 19, 25, 34, 42, 66, 110, 124, 139, 159, 171, 172, 180, 197, 210, 253, 258, 259, 267, 328, 337, 342, 347, 352, 357, 359, 366, 370, 375, 378, 416, 430, 431, 446, 453, 462, 462, 469, 470, 483, 494, 517, 525, 536, 537, 540, 542, 546, 557, 563, 572, 575, 590, 599, 608, 638, 644, 656, 657, 665, 677, 679, 683, 685, 702, 724, 731, 749, 756, 760, 760, 760, 761, 783, 783, 784, 792, 797, 809, 818, 823, 831, 833, 844, 853, 857, 861, 867, 876, 935, 943, 961, 967, 971, 986, 999, 999]\n"
     ]
    },
    {
     "data": {
      "text/plain": [
       "False"
      ]
     },
     "execution_count": 145,
     "metadata": {},
     "output_type": "execute_result"
    }
   ],
   "source": [
    "# Question 8\n",
    "entree = sorted([randint(0,1000) for i in range(100)])\n",
    "\n",
    "# @doc\n",
    "# @param {list} liste triée\n",
    "# @param {val} Une valeur à trouver dans la liste\n",
    "# @returns {bool} Si la valeur se trouve dans la liste\n",
    "def mystere2(liste,val):\n",
    "    l = liste[:]\n",
    "    while l:\n",
    "        n = len(l)\n",
    "        if val < l[n//2]: # Eliminer tous les elements supérieurs de la liste\n",
    "            l = l[:n//2]\n",
    "        elif val == l[n//2]: # La valeur est bien dans la liste\n",
    "            return True\n",
    "        else:\n",
    "            l = l[n//2+1:] # Eliminer la partie inférieure de la liste\n",
    "    return False\n",
    "            \n",
    "\n",
    "print(entree)    \n",
    "mystere2(entree,300)"
   ]
  }
 ],
 "metadata": {
  "celltoolbar": "None",
  "kernelspec": {
   "display_name": "Python 3",
   "language": "python",
   "name": "python3"
  },
  "language_info": {
   "codemirror_mode": {
    "name": "ipython",
    "version": 3
   },
   "file_extension": ".py",
   "mimetype": "text/x-python",
   "name": "python",
   "nbconvert_exporter": "python",
   "pygments_lexer": "ipython3",
   "version": "3.8.6"
  },
  "varInspector": {
   "cols": {
    "lenName": 16,
    "lenType": 16,
    "lenVar": 40
   },
   "kernels_config": {
    "python": {
     "delete_cmd_postfix": "",
     "delete_cmd_prefix": "del ",
     "library": "var_list.py",
     "varRefreshCmd": "print(var_dic_list())"
    },
    "r": {
     "delete_cmd_postfix": ") ",
     "delete_cmd_prefix": "rm(",
     "library": "var_list.r",
     "varRefreshCmd": "cat(var_dic_list()) "
    }
   },
   "types_to_exclude": [
    "module",
    "function",
    "builtin_function_or_method",
    "instance",
    "_Feature"
   ],
   "window_display": false
  }
 },
 "nbformat": 4,
 "nbformat_minor": 4
}
