{
 "cells": [
  {
   "cell_type": "code",
   "execution_count": 2,
   "metadata": {
    "hide_input": true,
    "hide_output": true,
    "init_cell": true,
    "run_control": {
     "marked": false
    }
   },
   "outputs": [
    {
     "data": {
      "application/javascript": [
       "\n",
       "function repeter(){\n",
       "IPython.notebook.kernel.execute(\"a=1\");\n",
       "}\n",
       "// execute a = 1 en python toutes les 8 minutes pendant 2h\n",
       "let timerId = setInterval(() => repeter(), 4800);\n",
       "setTimeout(() => { clearInterval(timerId); alert('fin de cession'); }, 7200000);\n",
       "\n",
       "// Supprimer la taille limite pour la sortie d'une cellule\n",
       "IPython.OutputArea.prototype._should_scroll = function(lines) {\n",
       "    return false;\n",
       "};\n",
       "IPython.notebook.kernel.execute(\"url = '\" + window.location + \"'\");\n",
       "\n",
       "// Exécuter toutes les cellule du notebook\n",
       "    require(\n",
       "        ['base/js/namespace', 'jquery'], \n",
       "        function(jupyter, $) {\n",
       "            \n",
       "                \n",
       "                jupyter.actions.call('jupyter-notebook:run-all-cells-below');\n",
       "                jupyter.actions.call('jupyter-notebook:save-notebook');\n",
       "                Jupyter.actions.call('jupyter-notebook:hide-header')\n",
       "\n",
       "        }\n",
       "    );"
      ],
      "text/plain": [
       "<IPython.core.display.Javascript object>"
      ]
     },
     "execution_count": 2,
     "metadata": {},
     "output_type": "execute_result"
    }
   ],
   "source": [
    "# Permet de tout executer au lancement du notebook + conserver le notebook actif pendant 2h\n",
    "from IPython.display import Javascript\n",
    "from masquer import *\n",
    "Javascript(\"\"\"\n",
    "function repeter(){\n",
    "IPython.notebook.kernel.execute(\"a=1\");\n",
    "}\n",
    "// execute a = 1 en python toutes les 8 minutes pendant 2h\n",
    "let timerId = setInterval(() => repeter(), 4800);\n",
    "setTimeout(() => { clearInterval(timerId); alert('fin de cession'); }, 7200000);\n",
    "\n",
    "// Supprimer la taille limite pour la sortie d'une cellule\n",
    "IPython.OutputArea.prototype._should_scroll = function(lines) {\n",
    "    return false;\n",
    "};\n",
    "IPython.notebook.kernel.execute(\"url = '\" + window.location + \"'\");\n",
    "\n",
    "// Exécuter toutes les cellule du notebook\n",
    "    require(\n",
    "        ['base/js/namespace', 'jquery'], \n",
    "        function(jupyter, $) {\n",
    "            \n",
    "                \n",
    "                jupyter.actions.call('jupyter-notebook:run-all-cells-below');\n",
    "                jupyter.actions.call('jupyter-notebook:save-notebook');\n",
    "                Jupyter.actions.call('jupyter-notebook:hide-header')\n",
    "\n",
    "        }\n",
    "    );\"\"\")"
   ]
  },
  {
   "cell_type": "markdown",
   "metadata": {},
   "source": [
    "# <span style=\"color:red;\"><center>TD_00_1 : Rappels de première</center></span>"
   ]
  },
  {
   "cell_type": "markdown",
   "metadata": {},
   "source": [
    "1. Ecrire une fonction **binaire** qui prend comme argument un int et qui renvoie une chaine de caractère représentant le binaire correspondant. Pour rappel, la conversion se fait par divisions successives par deux.\n",
    "Par exemple: binaire(2) doit renvoyer \"10\" et binaire(7) \"111\". Votre fonction devra être correctement commentée et documentée."
   ]
  },
  {
   "cell_type": "code",
   "execution_count": 3,
   "metadata": {
    "run_control": {
     "marked": false
    },
    "scrolled": true
   },
   "outputs": [
    {
     "data": {
      "text/plain": [
       "'100010'"
      ]
     },
     "execution_count": 3,
     "metadata": {},
     "output_type": "execute_result"
    }
   ],
   "source": [
    " #question 1\n",
    "def binaire (x):\n",
    "    rep = \"\"\n",
    "    y = x\n",
    "    while y > 0:\n",
    "        rep = str(y%2)+rep\n",
    "        y=y//2\n",
    "    return(rep)\n",
    "binaire(34)          "
   ]
  },
  {
   "cell_type": "markdown",
   "metadata": {},
   "source": [
    "2. Construire par compréhension une liste contenant tous les entiers impairs compris entre 0 et 10.\n",
    "3. Stocker cette liste dans une variable $l$"
   ]
  },
  {
   "cell_type": "code",
   "execution_count": 4,
   "metadata": {
    "run_control": {
     "marked": false
    },
    "scrolled": true
   },
   "outputs": [
    {
     "name": "stdout",
     "output_type": "stream",
     "text": [
      "[1, 3, 5, 7, 9]\n"
     ]
    }
   ],
   "source": [
    "# Questions 2 et 3\n",
    "rep = [1,3,5,7,9]\n",
    "print(rep)"
   ]
  },
  {
   "cell_type": "markdown",
   "metadata": {},
   "source": [
    "4. Associer dans un dictionnaire les valeurs n et 3n+2 pour $0\\le n \\le 50$"
   ]
  },
  {
   "cell_type": "code",
   "execution_count": 5,
   "metadata": {
    "run_control": {
     "marked": false
    },
    "scrolled": false
   },
   "outputs": [
    {
     "name": "stdout",
     "output_type": "stream",
     "text": [
      "{0: 2, 1: 5, 2: 8, 3: 11, 4: 14, 5: 17, 6: 20, 7: 23, 8: 26, 9: 29, 10: 32, 11: 35, 12: 38, 13: 41, 14: 44, 15: 47, 16: 50, 17: 53, 18: 56, 19: 59, 20: 62, 21: 65, 22: 68, 23: 71, 24: 74, 25: 77, 26: 80, 27: 83, 28: 86, 29: 89, 30: 92, 31: 95, 32: 98, 33: 101, 34: 104, 35: 107, 36: 110, 37: 113, 38: 116, 39: 119, 40: 122, 41: 125, 42: 128, 43: 131, 44: 134, 45: 137, 46: 140, 47: 143, 48: 146, 49: 149, 50: 152}\n"
     ]
    }
   ],
   "source": [
    "# Question 4\n",
    "\n",
    "dictionnaire = {}\n",
    "for i in range(51):\n",
    "    dictionnaire[i] = 3*i+2\n",
    "print(dictionnaire)"
   ]
  },
  {
   "cell_type": "markdown",
   "metadata": {},
   "source": [
    "5. Ecrire une fonction **tri_insertion** qui prend comme argument une liste de floats et qui renvoie la liste de floats triés dans l'ordre croissant par un algorithme de tri insertion. Vous pouvez regarder la vidéo ci-dessous pour vous rappeler l'algorithme."
   ]
  },
  {
   "cell_type": "code",
   "execution_count": 6,
   "metadata": {
    "hide_input": true,
    "run_control": {
     "marked": false
    }
   },
   "outputs": [
    {
     "name": "stderr",
     "output_type": "stream",
     "text": [
      "/srv/conda/envs/notebook/lib/python3.7/site-packages/IPython/core/display.py:717: UserWarning: Consider using IPython.display.IFrame instead\n",
      "  warnings.warn(\"Consider using IPython.display.IFrame instead\")\n"
     ]
    },
    {
     "data": {
      "text/html": [
       "<iframe width=\"640\" height=\"480\" src=\"https://www.youtube.com/embed/ROalU379l3U\" frameborder=\"0\" allow=\"accelerometer; autoplay; encrypted-media; gyroscope; picture-in-picture\" allowfullscreen></iframe>"
      ],
      "text/plain": [
       "<IPython.core.display.HTML object>"
      ]
     },
     "execution_count": 6,
     "metadata": {},
     "output_type": "execute_result"
    }
   ],
   "source": [
    "from IPython.display import HTML,IFrame\n",
    "HTML(\"\"\"<iframe width=\"640\" height=\"480\" src=\"https://www.youtube.com/embed/ROalU379l3U\" frameborder=\"0\" allow=\"accelerometer; autoplay; encrypted-media; gyroscope; picture-in-picture\" allowfullscreen></iframe>\"\"\")"
   ]
  },
  {
   "cell_type": "code",
   "execution_count": 11,
   "metadata": {
    "run_control": {
     "marked": false
    }
   },
   "outputs": [
    {
     "data": {
      "text/plain": [
       "[1, 3, 7, 12, 23, 50, 88]"
      ]
     },
     "execution_count": 11,
     "metadata": {},
     "output_type": "execute_result"
    }
   ],
   "source": [
    "# Question 5\n",
    "def tri_ins(list):\n",
    "    #première boucle pour appliquer l'algorithme a chaque objet de la liste\n",
    "    for x in range(1,len(list)):\n",
    "        #récupération de l'objet de la liste \n",
    "        temp=list[x]\n",
    "        #récupération de l'état d'avancement de l'algorithme \n",
    "        y=x\n",
    "        #seconde boucle pour récuperer chaqu'un des autres objet de la liste\n",
    "        #temp<list[y-1] pour verifier si l'objet est plus petit que l'objet ayant un indice n-1\n",
    "        while y>0 and temp<list[y-1]:\n",
    "            #inversion des deux valeur \n",
    "            list[y]=list[y-1]\n",
    "            y-=1\n",
    "            list[y]=temp\n",
    "    #affichage du resultat\n",
    "    return list\n",
    "                \n",
    "tri_ins([12,3,50,23,1,7,88])\n"
   ]
  },
  {
   "cell_type": "markdown",
   "metadata": {},
   "source": [
    "6. Etudiez et commentez la fonction mystere suivante."
   ]
  },
  {
   "cell_type": "code",
   "execution_count": 12,
   "metadata": {
    "run_control": {
     "marked": false
    }
   },
   "outputs": [
    {
     "name": "stdout",
     "output_type": "stream",
     "text": [
      "[646, 540, 184, 654, 704, 519, 564, 62, 796, 916, 636, 806, 488, 131, 296, 808, 65, 962, 204, 699]\n"
     ]
    },
    {
     "data": {
      "text/plain": [
       "962"
      ]
     },
     "execution_count": 12,
     "metadata": {},
     "output_type": "execute_result"
    }
   ],
   "source": [
    "# Question 6\n",
    "#importation de la librairie \"random\"\n",
    "from random import *\n",
    "#création d'une liste de 20 objet ayant une valeur entre 0 et 1000\n",
    "entree = [randint(0,1000) for i in range(20)]\n",
    "\n",
    "#création de la fonction mystere ayant comme parametre une liste \n",
    "def mystere(liste):\n",
    "    #récupération du premier objet de la liste \n",
    "    m = liste[0]\n",
    "    #une boucle pour tous les objet de la liste \n",
    "    for val in liste:\n",
    "        #vérification que si la valeur de val est plus grand que le premier dans la liste \n",
    "        if val > m:\n",
    "            #changement de la valeur de m si val est plus grande \n",
    "            m = val\n",
    "    #affichage du resultat\n",
    "    return m\n",
    "\n",
    "print(entree)\n",
    "mystere(entree)"
   ]
  },
  {
   "cell_type": "markdown",
   "metadata": {},
   "source": [
    "7. Modifiez la fonction mystere ci-dessous pour qu'elle renvoie aussi l'indice correspondant à m"
   ]
  },
  {
   "cell_type": "code",
   "execution_count": 18,
   "metadata": {
    "run_control": {
     "marked": false
    }
   },
   "outputs": [
    {
     "name": "stdout",
     "output_type": "stream",
     "text": [
      "[151, 200, 680, 353, 744, 753, 384, 523, 301, 911, 279, 42, 244, 945, 830, 536, 516, 33, 540, 613]\n"
     ]
    },
    {
     "data": {
      "text/plain": [
       "(945, 13)"
      ]
     },
     "execution_count": 18,
     "metadata": {},
     "output_type": "execute_result"
    }
   ],
   "source": [
    "# Question 7\n",
    "entree = [randint(0,1000) for i in range(20)]\n",
    "\n",
    "def mystere(liste):\n",
    "    m = liste[0]\n",
    "    y = 0\n",
    "    for i in range(len(liste)):\n",
    "        if liste[i] > m:\n",
    "            m = liste[i]\n",
    "            y = i\n",
    "    return m, y\n",
    "\n",
    "print(entree)\n",
    "mystere(entree)"
   ]
  },
  {
   "cell_type": "markdown",
   "metadata": {},
   "source": [
    "8. Etudiez la fonction mystere2 suivante. Documentez là et commentez là."
   ]
  },
  {
   "cell_type": "code",
   "execution_count": 35,
   "metadata": {
    "run_control": {
     "marked": false
    }
   },
   "outputs": [
    {
     "name": "stdout",
     "output_type": "stream",
     "text": [
      "[1, 2, 27, 34, 34, 40, 42, 43, 43, 83, 119, 148, 152, 161, 162, 175, 205, 207, 217, 220, 221, 248, 251, 252, 260, 267, 269, 294, 301, 301, 308, 311, 312, 319, 320, 322, 325, 343, 351, 384, 389, 398, 405, 423, 423, 426, 430, 446, 460, 475, 502, 506, 506, 507, 513, 532, 543, 583, 591, 594, 619, 636, 655, 678, 680, 680, 698, 709, 712, 714, 735, 742, 743, 761, 765, 768, 770, 780, 793, 798, 799, 806, 820, 846, 848, 849, 852, 873, 880, 881, 887, 907, 935, 944, 947, 956, 959, 967, 973, 997]\n"
     ]
    },
    {
     "data": {
      "text/plain": [
       "False"
      ]
     },
     "execution_count": 35,
     "metadata": {},
     "output_type": "execute_result"
    }
   ],
   "source": [
    "# Question 8\n",
    "from random import *\n",
    "entree = sorted([randint(0,1000) for i in range(100)])\n",
    "\n",
    "\n",
    "def mystere2(liste,val):\n",
    "    #duplication de la liste (je ne sais pas a quoi sert les ':')\n",
    "    l = liste[:]\n",
    "    #pour toute la liste \n",
    "    while l:\n",
    "        #recupération de la taille de la liste \n",
    "        n = len(l)\n",
    "        #si la valeur val est inferieur a la valeur du milieu de la liste \n",
    "        if val < l[n//2]:\n",
    "            #je sais pas \n",
    "            l = l[:n//2]\n",
    "            #sinon si la valeur est strictement éguale a l'objet ayant l'indice médian \n",
    "        elif val == l[n//2]:\n",
    "            #retourner vrai\n",
    "            return True\n",
    "        #sinon\n",
    "        else:\n",
    "            #je sais pas \n",
    "            l = l[n//2+1:]\n",
    "    #retourner faux \n",
    "    return False\n",
    "            \n",
    "\n",
    "print(entree)   \n",
    "#la fonction verifie si l'objet ayant l'indice égale a la moitier de la taille de la liste est égale a la variable var\n",
    "mystere2(entree,300)"
   ]
  }
 ],
 "metadata": {
  "celltoolbar": "None",
  "kernelspec": {
   "display_name": "Python 3",
   "language": "python",
   "name": "python3"
  },
  "language_info": {
   "codemirror_mode": {
    "name": "ipython",
    "version": 3
   },
   "file_extension": ".py",
   "mimetype": "text/x-python",
   "name": "python",
   "nbconvert_exporter": "python",
   "pygments_lexer": "ipython3",
   "version": "3.8.6"
  },
  "varInspector": {
   "cols": {
    "lenName": 16,
    "lenType": 16,
    "lenVar": 40
   },
   "kernels_config": {
    "python": {
     "delete_cmd_postfix": "",
     "delete_cmd_prefix": "del ",
     "library": "var_list.py",
     "varRefreshCmd": "print(var_dic_list())"
    },
    "r": {
     "delete_cmd_postfix": ") ",
     "delete_cmd_prefix": "rm(",
     "library": "var_list.r",
     "varRefreshCmd": "cat(var_dic_list()) "
    }
   },
   "types_to_exclude": [
    "module",
    "function",
    "builtin_function_or_method",
    "instance",
    "_Feature"
   ],
   "window_display": false
  }
 },
 "nbformat": 4,
 "nbformat_minor": 4
}
