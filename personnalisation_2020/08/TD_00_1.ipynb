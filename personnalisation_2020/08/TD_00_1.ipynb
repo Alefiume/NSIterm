{
 "cells": [
  {
   "cell_type": "code",
   "execution_count": 13,
   "metadata": {
    "hide_input": true,
    "hide_output": true,
    "init_cell": true,
    "run_control": {
     "marked": false
    }
   },
   "outputs": [
    {
     "data": {
      "application/javascript": [
       "\n",
       "function repeter(){\n",
       "IPython.notebook.kernel.execute(\"a=1\");\n",
       "}\n",
       "// execute a = 1 en python toutes les 8 minutes pendant 2h\n",
       "let timerId = setInterval(() => repeter(), 4800);\n",
       "setTimeout(() => { clearInterval(timerId); alert('fin de cession'); }, 7200000);\n",
       "\n",
       "// Supprimer la taille limite pour la sortie d'une cellule\n",
       "IPython.OutputArea.prototype._should_scroll = function(lines) {\n",
       "    return false;\n",
       "};\n",
       "IPython.notebook.kernel.execute(\"url = '\" + window.location + \"'\");\n",
       "\n",
       "// Exécuter toutes les cellule du notebook\n",
       "    require(\n",
       "        ['base/js/namespace', 'jquery'], \n",
       "        function(jupyter, $) {\n",
       "            \n",
       "                \n",
       "                jupyter.actions.call('jupyter-notebook:run-all-cells-below');\n",
       "                jupyter.actions.call('jupyter-notebook:save-notebook');\n",
       "                Jupyter.actions.call('jupyter-notebook:hide-header')\n",
       "\n",
       "        }\n",
       "    );"
      ],
      "text/plain": [
       "<IPython.core.display.Javascript object>"
      ]
     },
     "execution_count": 13,
     "metadata": {},
     "output_type": "execute_result"
    }
   ],
   "source": [
    "# Permet de tout executer au lancement du notebook + conserver le notebook actif pendant 2h\n",
    "from IPython.display import Javascript\n",
    "from masquer import *\n",
    "Javascript(\"\"\"\n",
    "function repeter(){\n",
    "IPython.notebook.kernel.execute(\"a=1\");\n",
    "}\n",
    "// execute a = 1 en python toutes les 8 minutes pendant 2h\n",
    "let timerId = setInterval(() => repeter(), 4800);\n",
    "setTimeout(() => { clearInterval(timerId); alert('fin de cession'); }, 7200000);\n",
    "\n",
    "// Supprimer la taille limite pour la sortie d'une cellule\n",
    "IPython.OutputArea.prototype._should_scroll = function(lines) {\n",
    "    return false;\n",
    "};\n",
    "IPython.notebook.kernel.execute(\"url = '\" + window.location + \"'\");\n",
    "\n",
    "// Exécuter toutes les cellule du notebook\n",
    "    require(\n",
    "        ['base/js/namespace', 'jquery'], \n",
    "        function(jupyter, $) {\n",
    "            \n",
    "                \n",
    "                jupyter.actions.call('jupyter-notebook:run-all-cells-below');\n",
    "                jupyter.actions.call('jupyter-notebook:save-notebook');\n",
    "                Jupyter.actions.call('jupyter-notebook:hide-header')\n",
    "\n",
    "        }\n",
    "    );\"\"\")"
   ]
  },
  {
   "cell_type": "code",
   "execution_count": 3,
   "metadata": {
    "hide_input": true,
    "hide_output": true,
    "run_control": {
     "marked": false
    }
   },
   "outputs": [
    {
     "data": {
      "text/html": [
       "<style>\n",
       "h1 {\n",
       "  font-family: 'Permanent Marker', cursive;\n",
       "  text-align: center;\n",
       "  color: red;\n",
       "  \n",
       "}\n",
       "ol {\n",
       "  list-style-position: inside;\n",
       "  margin-left: 1em;\n",
       "  list-style-position: outside;\n",
       "}\n",
       "h2 {\n",
       "  font-family: 'Permanent Marker', cursive;\n",
       "  color: blue;\n",
       "}\n",
       "</style>"
      ],
      "text/plain": [
       "<IPython.core.display.HTML object>"
      ]
     },
     "execution_count": 3,
     "metadata": {},
     "output_type": "execute_result"
    }
   ],
   "source": [
    "HTML(\"\"\"<style>\n",
    "h1 {\n",
    "  font-family: 'Permanent Marker', cursive;\n",
    "  text-align: center;\n",
    "  color: red;\n",
    "  \n",
    "}\n",
    "ol {\n",
    "  list-style-position: inside;\n",
    "  margin-left: 1em;\n",
    "  list-style-position: outside;\n",
    "}\n",
    "h2 {\n",
    "  font-family: 'Permanent Marker', cursive;\n",
    "  color: blue;\n",
    "}\n",
    "</style>\"\"\")"
   ]
  },
  {
   "cell_type": "markdown",
   "metadata": {},
   "source": [
    "# <span style=\"color:red;\"><center>TD_00_1 : Rappels de première</center></span>"
   ]
  },
  {
   "cell_type": "markdown",
   "metadata": {},
   "source": [
    "1. Ecrire une fonction **binaire** qui prend comme argument un int et qui renvoie une chaine de caractère représentant le binaire correspondant. Pour rappel, la conversion se fait par divisions successives par deux.\n",
    "Par exemple: binaire(2) doit renvoyer \"10\" et binaire(7) \"111\". Votre fonction devra être correctement commentée et documentée."
   ]
  },
  {
   "cell_type": "code",
   "execution_count": 79,
   "metadata": {
    "run_control": {
     "marked": false
    }
   },
   "outputs": [
    {
     "name": "stdout",
     "output_type": "stream",
     "text": [
      "(1, (0, (1, (1, (0, (1, ()))))))\n"
     ]
    }
   ],
   "source": [
    "# Question 1.\n",
    "a=45\n",
    "b=()\n",
    "while a>0:\n",
    "    b=a%2,b\n",
    "    a=a//2\n",
    "print(b)"
   ]
  },
  {
   "cell_type": "markdown",
   "metadata": {},
   "source": [
    "2. Construire par compréhension une liste contenant tous les entiers impairs compris entre 0 et 10.\n",
    "3. Stocker cette liste dans une variable $l$"
   ]
  },
  {
   "cell_type": "code",
   "execution_count": 80,
   "metadata": {
    "run_control": {
     "marked": false
    }
   },
   "outputs": [
    {
     "name": "stdout",
     "output_type": "stream",
     "text": [
      "[1, 3, 5, 7, 9]\n"
     ]
    }
   ],
   "source": [
    "# Questions 2 et 3\n",
    "l=[]\n",
    "for i in range(0,11):\n",
    "    if i%2!=0:\n",
    "        l.append(i)\n",
    "print(l)\n"
   ]
  },
  {
   "cell_type": "markdown",
   "metadata": {},
   "source": [
    "4. Associer dans un dictionnaire les valeurs n et 3n+2 pour $0\\le n \\le 50$"
   ]
  },
  {
   "cell_type": "code",
   "execution_count": 84,
   "metadata": {
    "run_control": {
     "marked": false
    }
   },
   "outputs": [
    {
     "name": "stdout",
     "output_type": "stream",
     "text": [
      "{0: 2, 1: 5, 2: 8, 3: 11, 4: 14, 5: 17, 6: 20, 7: 23, 8: 26, 9: 29, 10: 32, 11: 35, 12: 38, 13: 41, 14: 44, 15: 47, 16: 50, 17: 53, 18: 56, 19: 59, 20: 62, 21: 65, 22: 68, 23: 71, 24: 74, 25: 77, 26: 80, 27: 83, 28: 86, 29: 89, 30: 92, 31: 95, 32: 98, 33: 101, 34: 104, 35: 107, 36: 110, 37: 113, 38: 116, 39: 119, 40: 122, 41: 125, 42: 128, 43: 131, 44: 134, 45: 137, 46: 140, 47: 143, 48: 146, 49: 149, 50: 152}\n"
     ]
    }
   ],
   "source": [
    "# Question 4\n",
    "a={}\n",
    "for i in range (0,51):\n",
    "    a[i]=3*i+2\n",
    "print(a)"
   ]
  },
  {
   "cell_type": "markdown",
   "metadata": {},
   "source": [
    "5. Ecrire une fonction **tri_insertion** qui prend comme argument une liste de floats et qui renvoie la liste de floats triés dans l'ordre croissant par un algorithme de tri insertion. Vous pouvez regarder la vidéo ci-dessous pour vous rappeler l'algorithme."
   ]
  },
  {
   "cell_type": "code",
   "execution_count": 17,
   "metadata": {
    "hide_input": true,
    "run_control": {
     "marked": false
    }
   },
   "outputs": [
    {
     "data": {
      "text/html": [
       "<iframe width=\"640\" height=\"480\" src=\"https://www.youtube.com/embed/ROalU379l3U\" frameborder=\"0\" allow=\"accelerometer; autoplay; encrypted-media; gyroscope; picture-in-picture\" allowfullscreen></iframe>"
      ],
      "text/plain": [
       "<IPython.core.display.HTML object>"
      ]
     },
     "execution_count": 17,
     "metadata": {},
     "output_type": "execute_result"
    }
   ],
   "source": [
    "from IPython.display import HTML,IFrame\n",
    "HTML(\"\"\"<iframe width=\"640\" height=\"480\" src=\"https://www.youtube.com/embed/ROalU379l3U\" frameborder=\"0\" allow=\"accelerometer; autoplay; encrypted-media; gyroscope; picture-in-picture\" allowfullscreen></iframe>\"\"\")"
   ]
  },
  {
   "cell_type": "code",
   "execution_count": 100,
   "metadata": {
    "run_control": {
     "marked": false
    }
   },
   "outputs": [
    {
     "name": "stdout",
     "output_type": "stream",
     "text": [
      "[0, 1, 2, 3, 4, 5, 6, 7, 8, 9]\n"
     ]
    }
   ],
   "source": [
    "# Question 5\n",
    "a=[8,6,4,9,2,3,0,5,1,7]\n",
    "r=0\n",
    "for i in range (len(a)-1):\n",
    "    if a[i]>a[i+1]:\n",
    "        r=a[i+1]\n",
    "        a[i+1]=a[i]\n",
    "        a[i]=r\n",
    "        c=i\n",
    "        for b in range (i):\n",
    "            if a[c]<a[c-1]:\n",
    "                r=a[c-1]\n",
    "                a[c-1]=a[c]\n",
    "                a[c]=r\n",
    "                c=c-1\n",
    "print(a)"
   ]
  },
  {
   "cell_type": "markdown",
   "metadata": {},
   "source": [
    "6. Etudiez et commentez la fonction mystere suivante."
   ]
  },
  {
   "cell_type": "code",
   "execution_count": 19,
   "metadata": {
    "run_control": {
     "marked": false
    }
   },
   "outputs": [
    {
     "name": "stdout",
     "output_type": "stream",
     "text": [
      "[855, 871, 629, 439, 382, 275, 75, 542, 818, 522, 9, 130, 565, 810, 451, 117, 267, 964, 967, 438]\n"
     ]
    },
    {
     "data": {
      "text/plain": [
       "967"
      ]
     },
     "execution_count": 19,
     "metadata": {},
     "output_type": "execute_result"
    }
   ],
   "source": [
    "# Question 6\n",
    "from random import *\n",
    "entree = [randint(0,1000) for i in range(20)]\n",
    "#enrree est un liste de 20 nombres aleatoires compris entre 0 et 1000 \n",
    "def mystere(liste):\n",
    "    m = liste[0]  #m est le premier nombre de la liste \"entree\"\n",
    "    for val in liste: #boucle qui se repete autant de fois qui'il y a de nombres dns la liste \n",
    "        if val > m: #si le nombre a la position val dans la liste est plus grand que m alors m prend sa valeur\n",
    "            m = val\n",
    "    return m   #m est le plus grand nombre de la liste\n",
    "\n",
    "print(entree)\n",
    "mystere(entree)"
   ]
  },
  {
   "cell_type": "markdown",
   "metadata": {},
   "source": [
    "7. Modifiez la fonction mystere ci-dessous pour qu'elle renvoie aussi l'indice correspondant à m"
   ]
  },
  {
   "cell_type": "code",
   "execution_count": 107,
   "metadata": {
    "run_control": {
     "marked": false
    }
   },
   "outputs": [
    {
     "name": "stdout",
     "output_type": "stream",
     "text": [
      "[342, 551, 654, 590, 130, 550, 976, 599, 225, 659, 835, 90, 224, 994, 895, 207, 369, 920, 366, 972]\n"
     ]
    },
    {
     "data": {
      "text/plain": [
       "(994, 13)"
      ]
     },
     "execution_count": 107,
     "metadata": {},
     "output_type": "execute_result"
    }
   ],
   "source": [
    "# Question 7\n",
    "entree = [randint(0,1000) for i in range(20)]\n",
    "\n",
    "def mystere(liste):\n",
    "    m = liste[0]\n",
    "    b = 0\n",
    "    for val in range (len(liste)):\n",
    "        if liste[val] > m:\n",
    "            m = liste[val]\n",
    "            b = val\n",
    "    return m,b\n",
    "\n",
    "print(entree)\n",
    "mystere(entree)"
   ]
  },
  {
   "cell_type": "markdown",
   "metadata": {},
   "source": [
    "8. Etudiez la fonction mystere2 suivante. Documentez là et commentez là."
   ]
  },
  {
   "cell_type": "code",
   "execution_count": 111,
   "metadata": {
    "run_control": {
     "marked": true
    }
   },
   "outputs": [
    {
     "name": "stdout",
     "output_type": "stream",
     "text": [
      "[22, 40, 42, 46, 52, 54, 60, 69, 75, 84, 89, 93, 98, 117, 121, 147, 155, 171, 176, 177, 178, 179, 188, 194, 216, 231, 257, 279, 289, 302, 302, 305, 324, 330, 338, 344, 351, 356, 371, 391, 398, 398, 410, 415, 415, 437, 442, 452, 453, 457, 458, 459, 486, 497, 503, 514, 515, 517, 542, 542, 565, 573, 577, 579, 580, 621, 641, 681, 684, 687, 690, 704, 706, 718, 721, 727, 736, 748, 763, 769, 775, 776, 777, 780, 788, 795, 818, 821, 842, 864, 876, 886, 886, 899, 950, 952, 960, 964, 968, 977]\n"
     ]
    },
    {
     "data": {
      "text/plain": [
       "False"
      ]
     },
     "execution_count": 111,
     "metadata": {},
     "output_type": "execute_result"
    }
   ],
   "source": [
    "# Question 8\n",
    "entree = sorted([randint(0,1000) for i in range(100)])\n",
    "#enrree est un liste de 100 nombres aleatoires compris entre 0 et 1000 ranger dans l'ordre\n",
    "\n",
    "def mystere2(liste,val):\n",
    "    l = liste[:] #assigne a l la liste \"entree\"\n",
    "    while l: #cree une boucle qui se repete jusqu'a ce que la liste l n'existe plus\n",
    "        n = len(l)  #a \"n\" on assigne la valeure du nombre d'elements dans la liste l (ici c'est 100)\n",
    "        if val < l[n//2]: #Si val(300) est plus grand que le nombre au milieu de la liste l alors on ne garde que la moitie de la liste la plus grande\n",
    "            l = l[:n//2]\n",
    "        elif val == l[n//2]: #Si val(300) est egale a la moitie de la liste alors renvoyer true\n",
    "            return True\n",
    "        else:                #Si non garder la moitier la plus petite de la liste plus un\n",
    "            l = l[n//2+1:]\n",
    "    return False             #Renvoyer faux\n",
    "            \n",
    "#la fonction cherche dans la liste si ul y a le nombre 300\n",
    "print(entree)    \n",
    "mystere2(entree,300)"
   ]
  }
 ],
 "metadata": {
  "celltoolbar": "None",
  "kernelspec": {
   "display_name": "Python 3",
   "language": "python",
   "name": "python3"
  },
  "language_info": {
   "codemirror_mode": {
    "name": "ipython",
    "version": 3
   },
   "file_extension": ".py",
   "mimetype": "text/x-python",
   "name": "python",
   "nbconvert_exporter": "python",
   "pygments_lexer": "ipython3",
   "version": "3.8.6"
  },
  "varInspector": {
   "cols": {
    "lenName": 16,
    "lenType": 16,
    "lenVar": 40
   },
   "kernels_config": {
    "python": {
     "delete_cmd_postfix": "",
     "delete_cmd_prefix": "del ",
     "library": "var_list.py",
     "varRefreshCmd": "print(var_dic_list())"
    },
    "r": {
     "delete_cmd_postfix": ") ",
     "delete_cmd_prefix": "rm(",
     "library": "var_list.r",
     "varRefreshCmd": "cat(var_dic_list()) "
    }
   },
   "types_to_exclude": [
    "module",
    "function",
    "builtin_function_or_method",
    "instance",
    "_Feature"
   ],
   "window_display": false
  }
 },
 "nbformat": 4,
 "nbformat_minor": 4
}
